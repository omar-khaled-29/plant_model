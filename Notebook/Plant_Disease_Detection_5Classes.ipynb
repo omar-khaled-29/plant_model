{
  "metadata": {
    "kernelspec": {
      "display_name": "Python 3",
      "name": "python3"
    },
    "language_info": {
      "name": "python",
      "version": "3.10.13",
      "mimetype": "text/x-python",
      "codemirror_mode": {
        "name": "ipython",
        "version": 3
      },
      "pygments_lexer": "ipython3",
      "nbconvert_exporter": "python",
      "file_extension": ".py"
    },
    "kaggle": {
      "accelerator": "none",
      "dataSources": [
        {
          "sourceId": 8813963,
          "sourceType": "datasetVersion",
          "datasetId": 4562950
        }
      ],
      "dockerImageVersionId": 30732,
      "isInternetEnabled": true,
      "language": "python",
      "sourceType": "notebook",
      "isGpuEnabled": false
    },
    "colab": {
      "name": "plant5classes_new",
      "provenance": [],
      "gpuType": "T4"
    },
    "accelerator": "GPU"
  },
  "nbformat_minor": 0,
  "nbformat": 4,
  "cells": [
    {
      "source": [
        "\n",
        "# IMPORTANT: RUN THIS CELL IN ORDER TO IMPORT YOUR KAGGLE DATA SOURCES\n",
        "# TO THE CORRECT LOCATION (/kaggle/input) IN YOUR NOTEBOOK,\n",
        "# THEN FEEL FREE TO DELETE THIS CELL.\n",
        "# NOTE: THIS NOTEBOOK ENVIRONMENT DIFFERS FROM KAGGLE'S PYTHON\n",
        "# ENVIRONMENT SO THERE MAY BE MISSING LIBRARIES USED BY YOUR\n",
        "# NOTEBOOK.\n",
        "\n",
        "import os\n",
        "import sys\n",
        "from tempfile import NamedTemporaryFile\n",
        "from urllib.request import urlopen\n",
        "from urllib.parse import unquote, urlparse\n",
        "from urllib.error import HTTPError\n",
        "from zipfile import ZipFile\n",
        "import tarfile\n",
        "import shutil\n",
        "\n",
        "CHUNK_SIZE = 40960\n",
        "DATA_SOURCE_MAPPING = 'plant-disease:https%3A%2F%2Fstorage.googleapis.com%2Fkaggle-data-sets%2F4562950%2F8813963%2Fbundle%2Farchive.zip%3FX-Goog-Algorithm%3DGOOG4-RSA-SHA256%26X-Goog-Credential%3Dgcp-kaggle-com%2540kaggle-161607.iam.gserviceaccount.com%252F20240711%252Fauto%252Fstorage%252Fgoog4_request%26X-Goog-Date%3D20240711T200248Z%26X-Goog-Expires%3D259200%26X-Goog-SignedHeaders%3Dhost%26X-Goog-Signature%3D5fcd84ed2d631dfcee73645d5cf81130fdb0883cbb5a9946503f43b202b4c70220f6c45b6147e2bd8a977e731db648a0f987d4364699507fcc803f9ecafefd6fd01ce8d434abc359617240fe800e6235c8f7e0c86e8c5a3c1efb8bdeab0f5bd93eed6e578f860e63efc7d20d8acdbf5dc9b3924715acc9a1f7241ed9fc4ad1b6f80393697ea4350a7ade9da6f6dc74ba27143916191fa4b30794c5199148ae48273e5bea589beb32805a1646bef68b3e29ebb0c02eb3300a98e06418309d0d80a471063341a9c0ccfc747550aed37ea240171b61003959b2a0d8145ca1934c5328293dcf353dbbb5e5b61d07b8c1dab605029c8b429627a75881213e841759c7'\n",
        "\n",
        "KAGGLE_INPUT_PATH='/kaggle/input'\n",
        "KAGGLE_WORKING_PATH='/kaggle/working'\n",
        "KAGGLE_SYMLINK='kaggle'\n",
        "\n",
        "!umount /kaggle/input/ 2> /dev/null\n",
        "shutil.rmtree('/kaggle/input', ignore_errors=True)\n",
        "os.makedirs(KAGGLE_INPUT_PATH, 0o777, exist_ok=True)\n",
        "os.makedirs(KAGGLE_WORKING_PATH, 0o777, exist_ok=True)\n",
        "\n",
        "try:\n",
        "  os.symlink(KAGGLE_INPUT_PATH, os.path.join(\"..\", 'input'), target_is_directory=True)\n",
        "except FileExistsError:\n",
        "  pass\n",
        "try:\n",
        "  os.symlink(KAGGLE_WORKING_PATH, os.path.join(\"..\", 'working'), target_is_directory=True)\n",
        "except FileExistsError:\n",
        "  pass\n",
        "\n",
        "for data_source_mapping in DATA_SOURCE_MAPPING.split(','):\n",
        "    directory, download_url_encoded = data_source_mapping.split(':')\n",
        "    download_url = unquote(download_url_encoded)\n",
        "    filename = urlparse(download_url).path\n",
        "    destination_path = os.path.join(KAGGLE_INPUT_PATH, directory)\n",
        "    try:\n",
        "        with urlopen(download_url) as fileres, NamedTemporaryFile() as tfile:\n",
        "            total_length = fileres.headers['content-length']\n",
        "            print(f'Downloading {directory}, {total_length} bytes compressed')\n",
        "            dl = 0\n",
        "            data = fileres.read(CHUNK_SIZE)\n",
        "            while len(data) > 0:\n",
        "                dl += len(data)\n",
        "                tfile.write(data)\n",
        "                done = int(50 * dl / int(total_length))\n",
        "                sys.stdout.write(f\"\\r[{'=' * done}{' ' * (50-done)}] {dl} bytes downloaded\")\n",
        "                sys.stdout.flush()\n",
        "                data = fileres.read(CHUNK_SIZE)\n",
        "            if filename.endswith('.zip'):\n",
        "              with ZipFile(tfile) as zfile:\n",
        "                zfile.extractall(destination_path)\n",
        "            else:\n",
        "              with tarfile.open(tfile.name) as tarfile:\n",
        "                tarfile.extractall(destination_path)\n",
        "            print(f'\\nDownloaded and uncompressed: {directory}')\n",
        "    except HTTPError as e:\n",
        "        print(f'Failed to load (likely expired) {download_url} to path {destination_path}')\n",
        "        continue\n",
        "    except OSError as e:\n",
        "        print(f'Failed to load {download_url} to path {destination_path}')\n",
        "        continue\n",
        "\n",
        "print('Data source import complete.')\n"
      ],
      "metadata": {
        "colab": {
          "base_uri": "https://localhost:8080/"
        },
        "id": "gbH_mrnZZDu5",
        "outputId": "5b285b3e-1083-46eb-b849-0810339408f5"
      },
      "cell_type": "code",
      "outputs": [
        {
          "output_type": "stream",
          "name": "stdout",
          "text": [
            "Downloading plant-disease, 16081895452 bytes compressed\n",
            "[==================================================] 16081895452 bytes downloaded\n",
            "Downloaded and uncompressed: plant-disease\n",
            "Data source import complete.\n"
          ]
        }
      ],
      "execution_count": 4
    },
    {
      "cell_type": "code",
      "source": [
        "import matplotlib.pyplot as plt\n",
        "import numpy as np\n",
        "import os\n",
        "import tensorflow as tf\n",
        "import tensorflow.keras.layers as tfl\n",
        "\n",
        "from tensorflow.keras.preprocessing import image_dataset_from_directory\n",
        "from tensorflow.keras.layers import RandomFlip, RandomRotation, Rescaling, RandomZoom, Resizing, RandomBrightness, RandomContrast"
      ],
      "metadata": {
        "execution": {
          "iopub.status.busy": "2024-07-11T19:59:32.145112Z",
          "iopub.execute_input": "2024-07-11T19:59:32.145667Z",
          "iopub.status.idle": "2024-07-11T19:59:32.153013Z",
          "shell.execute_reply.started": "2024-07-11T19:59:32.145624Z",
          "shell.execute_reply": "2024-07-11T19:59:32.151433Z"
        },
        "trusted": true,
        "id": "xP5zQ98KZDvE"
      },
      "execution_count": 5,
      "outputs": []
    },
    {
      "cell_type": "code",
      "source": [
        "BATCH_SIZE = 64\n",
        "IMG_SIZE = (224, 224)\n",
        "\n",
        "train_dataset = image_dataset_from_directory(\"/kaggle/input/plant-disease/Plant Disease-5-classes/Plant Disease-5/Train/Train\",\n",
        "                                             batch_size=BATCH_SIZE,\n",
        "                                             image_size=IMG_SIZE)\n",
        "\n",
        "validation_dataset = image_dataset_from_directory(\"/kaggle/input/plant-disease/Plant Disease-5-classes/Plant Disease-5/Validation/Validation\",\n",
        "                                             batch_size=BATCH_SIZE,\n",
        "                                             image_size=IMG_SIZE)\n",
        "\n",
        "test_dataset = image_dataset_from_directory(\"/kaggle/input/plant-disease/Plant Disease-5-classes/Plant Disease-5/Test/Test\",\n",
        "                                             batch_size=BATCH_SIZE,\n",
        "                                             image_size=IMG_SIZE)"
      ],
      "metadata": {
        "execution": {
          "iopub.status.busy": "2024-07-11T19:59:32.351269Z",
          "iopub.execute_input": "2024-07-11T19:59:32.351746Z",
          "iopub.status.idle": "2024-07-11T19:59:34.688662Z",
          "shell.execute_reply.started": "2024-07-11T19:59:32.351711Z",
          "shell.execute_reply": "2024-07-11T19:59:34.687529Z"
        },
        "trusted": true,
        "colab": {
          "base_uri": "https://localhost:8080/"
        },
        "id": "-ReSaU3RZDvH",
        "outputId": "e0345012-3352-42d3-b9a7-32cd0f9d3a15"
      },
      "execution_count": 6,
      "outputs": [
        {
          "output_type": "stream",
          "name": "stdout",
          "text": [
            "Found 5500 files belonging to 5 classes.\n",
            "Found 500 files belonging to 5 classes.\n",
            "Found 400 files belonging to 5 classes.\n"
          ]
        }
      ]
    },
    {
      "cell_type": "code",
      "source": [
        "class_names = train_dataset.class_names"
      ],
      "metadata": {
        "execution": {
          "iopub.status.busy": "2024-07-06T17:50:45.625882Z",
          "iopub.execute_input": "2024-07-06T17:50:45.626385Z",
          "iopub.status.idle": "2024-07-06T17:50:45.632762Z",
          "shell.execute_reply.started": "2024-07-06T17:50:45.626339Z",
          "shell.execute_reply": "2024-07-06T17:50:45.631217Z"
        },
        "trusted": true,
        "id": "stLpmM5iZDvK"
      },
      "execution_count": 7,
      "outputs": []
    },
    {
      "cell_type": "code",
      "source": [
        "'''class_names = train_dataset.class_names\n",
        "\n",
        "plt.figure(figsize=(10, 10))\n",
        "for images, labels in train_dataset.take(1):\n",
        "    for i in range(9):\n",
        "        ax = plt.subplot(3, 3, i + 1)\n",
        "        plt.imshow(images[i].numpy().astype(\"uint8\"))\n",
        "        plt.title(class_names[labels[i]])\n",
        "        plt.axis(\"off\")'''"
      ],
      "metadata": {
        "execution": {
          "iopub.status.busy": "2024-07-06T17:50:52.257749Z",
          "iopub.execute_input": "2024-07-06T17:50:52.25822Z",
          "iopub.status.idle": "2024-07-06T17:50:52.26724Z",
          "shell.execute_reply.started": "2024-07-06T17:50:52.258184Z",
          "shell.execute_reply": "2024-07-06T17:50:52.265999Z"
        },
        "trusted": true,
        "colab": {
          "base_uri": "https://localhost:8080/",
          "height": 54
        },
        "id": "0sAP4788ZDvL",
        "outputId": "8ef836eb-073a-43a7-b788-92300f627d26"
      },
      "execution_count": 8,
      "outputs": [
        {
          "output_type": "execute_result",
          "data": {
            "text/plain": [
              "'class_names = train_dataset.class_names\\n\\nplt.figure(figsize=(10, 10))\\nfor images, labels in train_dataset.take(1):\\n    for i in range(9):\\n        ax = plt.subplot(3, 3, i + 1)\\n        plt.imshow(images[i].numpy().astype(\"uint8\"))\\n        plt.title(class_names[labels[i]])\\n        plt.axis(\"off\")'"
            ],
            "application/vnd.google.colaboratory.intrinsic+json": {
              "type": "string"
            }
          },
          "metadata": {},
          "execution_count": 8
        }
      ]
    },
    {
      "cell_type": "code",
      "source": [
        "# data_augmenter\n",
        "def data_augmenter():\n",
        "    '''\n",
        "    Create a Sequential model composed of multiple layers\n",
        "    Returns:\n",
        "        tf.keras.Sequential\n",
        "    '''\n",
        "    data_augmentation = tf.keras.Sequential()\n",
        "    data_augmentation.add(RandomFlip(\"horizontal\", seed=42)),\n",
        "    data_augmentation.add(RandomRotation(0.2, seed=42, fill_mode=\"nearest\")),\n",
        "    data_augmentation.add(RandomBrightness(0.2, seed=42)),\n",
        "    data_augmentation.add(RandomContrast(0.2, seed=42)),\n",
        "    data_augmentation.add(RandomZoom(0.3, fill_mode=\"nearest\", seed=42)),\n",
        "\n",
        "    return data_augmentation"
      ],
      "metadata": {
        "execution": {
          "iopub.status.busy": "2024-07-06T17:51:11.187526Z",
          "iopub.execute_input": "2024-07-06T17:51:11.187958Z",
          "iopub.status.idle": "2024-07-06T17:51:11.195768Z",
          "shell.execute_reply.started": "2024-07-06T17:51:11.187927Z",
          "shell.execute_reply": "2024-07-06T17:51:11.194604Z"
        },
        "trusted": true,
        "id": "dPv6eChSZDvP"
      },
      "execution_count": 9,
      "outputs": []
    },
    {
      "cell_type": "code",
      "source": [
        "'''data_augmentation = data_augmenter()\n",
        "\n",
        "for image, _ in train_dataset.take(1):\n",
        "    plt.figure(figsize=(10, 10))\n",
        "    first_image = image[0]\n",
        "    for i in range(9):\n",
        "        ax = plt.subplot(3, 3, i + 1)\n",
        "        augmented_image = data_augmentation(tf.expand_dims(first_image, 0))\n",
        "        plt.imshow(augmented_image[0] / 255) # commented as if we use a rescailing layer in the data_augmenter\n",
        "        plt.axis('off')'''"
      ],
      "metadata": {
        "execution": {
          "iopub.status.busy": "2024-07-06T17:51:18.011647Z",
          "iopub.execute_input": "2024-07-06T17:51:18.012106Z",
          "iopub.status.idle": "2024-07-06T17:51:18.020927Z",
          "shell.execute_reply.started": "2024-07-06T17:51:18.012057Z",
          "shell.execute_reply": "2024-07-06T17:51:18.019602Z"
        },
        "trusted": true,
        "colab": {
          "base_uri": "https://localhost:8080/",
          "height": 72
        },
        "id": "eSvW-U26ZDvQ",
        "outputId": "c04bc629-e776-4e5e-a432-32dba43fba31"
      },
      "execution_count": 10,
      "outputs": [
        {
          "output_type": "execute_result",
          "data": {
            "text/plain": [
              "\"data_augmentation = data_augmenter()\\n\\nfor image, _ in train_dataset.take(1):\\n    plt.figure(figsize=(10, 10))\\n    first_image = image[0]\\n    for i in range(9):\\n        ax = plt.subplot(3, 3, i + 1)\\n        augmented_image = data_augmentation(tf.expand_dims(first_image, 0))\\n        plt.imshow(augmented_image[0] / 255) # commented as if we use a rescailing layer in the data_augmenter\\n        plt.axis('off')\""
            ],
            "application/vnd.google.colaboratory.intrinsic+json": {
              "type": "string"
            }
          },
          "metadata": {},
          "execution_count": 10
        }
      ]
    },
    {
      "cell_type": "code",
      "source": [
        "preprocess_input = tf.keras.applications.mobilenet_v3.preprocess_input"
      ],
      "metadata": {
        "execution": {
          "iopub.status.busy": "2024-07-06T17:51:24.394579Z",
          "iopub.execute_input": "2024-07-06T17:51:24.394999Z",
          "iopub.status.idle": "2024-07-06T17:51:24.400701Z",
          "shell.execute_reply.started": "2024-07-06T17:51:24.394965Z",
          "shell.execute_reply": "2024-07-06T17:51:24.399466Z"
        },
        "trusted": true,
        "id": "MJoo_jBFZDvf"
      },
      "execution_count": 11,
      "outputs": []
    },
    {
      "cell_type": "code",
      "source": [
        "IMG_SHAPE = IMG_SIZE + (3,)"
      ],
      "metadata": {
        "execution": {
          "iopub.status.busy": "2024-07-06T17:51:29.112632Z",
          "iopub.execute_input": "2024-07-06T17:51:29.113024Z",
          "iopub.status.idle": "2024-07-06T17:51:29.118932Z",
          "shell.execute_reply.started": "2024-07-06T17:51:29.112993Z",
          "shell.execute_reply": "2024-07-06T17:51:29.117623Z"
        },
        "trusted": true,
        "id": "Bwy8GIYZZDvh"
      },
      "execution_count": 12,
      "outputs": []
    },
    {
      "cell_type": "code",
      "source": [
        "# Model\n",
        "\n",
        "num_classes = len(class_names)\n",
        "\n",
        "def plant_model(image_shape=IMG_SIZE, data_augmentation=data_augmenter()):\n",
        "    ''' Define a tf.keras model for multiclass classification out of the MobileNetV3Large model\n",
        "    Arguments:\n",
        "        image_shape -- Image width and height\n",
        "        data_augmentation -- data augmentation function\n",
        "    Returns:\n",
        "    Returns:\n",
        "        tf.keras.model\n",
        "    '''\n",
        "\n",
        "\n",
        "    input_shape = image_shape + (3,)\n",
        "\n",
        "    base_model = tf.keras.applications.MobileNetV3Large(input_shape=input_shape,\n",
        "                                                        include_top= False, # <== Important!!!!\n",
        "                                                        weights='imagenet') # From imageNet\n",
        "\n",
        "    # freeze the base model by making it non trainable\n",
        "    base_model.trainable = False\n",
        "\n",
        "    # create the input layer (Same as the imageNetv3Large input size)\n",
        "    inputs = tf.keras.Input(shape=input_shape)\n",
        "\n",
        "    # apply data augmentation to the inputs\n",
        "    x = data_augmenter()(inputs)\n",
        "\n",
        "    # data preprocessing using the same weights the model was trained on\n",
        "    x = preprocess_input(x)\n",
        "\n",
        "    # set training to False to avoid keeping track of statistics in the batch norm layer\n",
        "    x = base_model(x, training=False)\n",
        "\n",
        "    # add the new Binary classification layers\n",
        "    # use global avg pooling to summarize the info in each channel\n",
        "    x = tfl.GlobalAveragePooling2D()(x)\n",
        "\n",
        "    x = tfl.Dense(256, activation = 'relu')(x)\n",
        "    x = tfl.Dropout(0.3)(x)\n",
        "\n",
        "    x = tfl.Dense(128, activation = 'relu')(x)\n",
        "\n",
        "    # include dropout with probability of 0.2 to avoid overfitting\n",
        "    x = tfl.Dropout(0.2)(x)\n",
        "\n",
        "    # use a prediction layer with one neuron (as a binary classifier only needs one)\n",
        "    outputs = tfl.Dense(num_classes, activation = 'softmax')(x)\n",
        "\n",
        "    model = tf.keras.Model(inputs, outputs)\n",
        "\n",
        "    return model"
      ],
      "metadata": {
        "execution": {
          "iopub.status.busy": "2024-07-06T17:51:38.884338Z",
          "iopub.execute_input": "2024-07-06T17:51:38.88477Z",
          "iopub.status.idle": "2024-07-06T17:51:38.924607Z",
          "shell.execute_reply.started": "2024-07-06T17:51:38.884735Z",
          "shell.execute_reply": "2024-07-06T17:51:38.923411Z"
        },
        "trusted": true,
        "id": "jF7393FCZDvj"
      },
      "execution_count": 13,
      "outputs": []
    },
    {
      "cell_type": "code",
      "source": [
        "model2 = plant_model(IMG_SIZE, data_augmenter())"
      ],
      "metadata": {
        "execution": {
          "iopub.status.busy": "2024-07-06T17:51:45.165221Z",
          "iopub.execute_input": "2024-07-06T17:51:45.165616Z",
          "iopub.status.idle": "2024-07-06T17:51:47.034032Z",
          "shell.execute_reply.started": "2024-07-06T17:51:45.165587Z",
          "shell.execute_reply": "2024-07-06T17:51:47.032759Z"
        },
        "trusted": true,
        "colab": {
          "base_uri": "https://localhost:8080/"
        },
        "id": "_zormPl8ZDvl",
        "outputId": "55ea1d3e-3c17-44ab-961c-f8369fa16658"
      },
      "execution_count": 14,
      "outputs": [
        {
          "output_type": "stream",
          "name": "stdout",
          "text": [
            "Downloading data from https://storage.googleapis.com/tensorflow/keras-applications/mobilenet_v3/weights_mobilenet_v3_large_224_1.0_float_no_top_v2.h5\n",
            "12683000/12683000 [==============================] - 2s 0us/step\n"
          ]
        }
      ]
    },
    {
      "cell_type": "code",
      "source": [
        "base_learning_rate = 0.001\n",
        "model2.compile(optimizer=tf.keras.optimizers.Adam(learning_rate=base_learning_rate),\n",
        "              loss=tf.keras.losses.SparseCategoricalCrossentropy(from_logits=False),\n",
        "              metrics=['accuracy'])"
      ],
      "metadata": {
        "id": "_YQ1UwSFZDvm"
      },
      "execution_count": 15,
      "outputs": []
    },
    {
      "cell_type": "code",
      "source": [
        "early_stopping = tf.keras.callbacks.EarlyStopping(monitor=\"val_loss\",\n",
        "                                                  patience=3)\n",
        "\n",
        "reduce_lr = tf.keras.callbacks.ReduceLROnPlateau(monitor=\"val_loss\",\n",
        "                                                 factor=0.2,\n",
        "                                                 patience=2,\n",
        "                                                 verbose=1,\n",
        "                                                 min_lr=1e-7)\n",
        "\n",
        "check_point = tf.keras.callbacks.ModelCheckpoint(\n",
        "                        filepath=\"model_with_fine_tuning.keras\",\n",
        "                        save_best_only=True,\n",
        "                        monitor=\"val_loss\")"
      ],
      "metadata": {
        "id": "t-l5K1jJZDvm"
      },
      "execution_count": 16,
      "outputs": []
    },
    {
      "cell_type": "code",
      "source": [
        "initial_epochs = 10\n",
        "history = model2.fit(train_dataset,\n",
        "                     validation_data=validation_dataset,\n",
        "                     epochs=initial_epochs,\n",
        "                     callbacks=[reduce_lr, check_point, early_stopping])"
      ],
      "metadata": {
        "colab": {
          "base_uri": "https://localhost:8080/"
        },
        "id": "dG7zmFYtZDvn",
        "outputId": "8c412c1e-2011-4a29-eefa-e13ae41fe8eb"
      },
      "execution_count": 17,
      "outputs": [
        {
          "output_type": "stream",
          "name": "stdout",
          "text": [
            "Epoch 1/10\n",
            "86/86 [==============================] - 340s 3s/step - loss: 0.7758 - accuracy: 0.6900 - val_loss: 0.6440 - val_accuracy: 0.7480 - lr: 0.0010\n",
            "Epoch 2/10\n",
            "86/86 [==============================] - 325s 3s/step - loss: 0.4564 - accuracy: 0.8175 - val_loss: 0.4988 - val_accuracy: 0.8120 - lr: 0.0010\n",
            "Epoch 3/10\n",
            "86/86 [==============================] - 268s 3s/step - loss: 0.3951 - accuracy: 0.8396 - val_loss: 0.5239 - val_accuracy: 0.8160 - lr: 0.0010\n",
            "Epoch 4/10\n",
            "86/86 [==============================] - ETA: 0s - loss: 0.3403 - accuracy: 0.8629\n",
            "Epoch 4: ReduceLROnPlateau reducing learning rate to 0.00020000000949949026.\n",
            "86/86 [==============================] - 267s 3s/step - loss: 0.3403 - accuracy: 0.8629 - val_loss: 0.5545 - val_accuracy: 0.8060 - lr: 0.0010\n",
            "Epoch 5/10\n",
            "86/86 [==============================] - 273s 3s/step - loss: 0.3057 - accuracy: 0.8804 - val_loss: 0.4636 - val_accuracy: 0.8380 - lr: 2.0000e-04\n",
            "Epoch 6/10\n",
            "86/86 [==============================] - 259s 3s/step - loss: 0.2832 - accuracy: 0.8884 - val_loss: 0.4470 - val_accuracy: 0.8360 - lr: 2.0000e-04\n",
            "Epoch 7/10\n",
            "86/86 [==============================] - 269s 3s/step - loss: 0.2594 - accuracy: 0.8971 - val_loss: 0.4506 - val_accuracy: 0.8420 - lr: 2.0000e-04\n",
            "Epoch 8/10\n",
            "86/86 [==============================] - 262s 3s/step - loss: 0.2651 - accuracy: 0.8944 - val_loss: 0.4448 - val_accuracy: 0.8460 - lr: 2.0000e-04\n",
            "Epoch 9/10\n",
            "86/86 [==============================] - 266s 3s/step - loss: 0.2588 - accuracy: 0.9007 - val_loss: 0.4673 - val_accuracy: 0.8400 - lr: 2.0000e-04\n",
            "Epoch 10/10\n",
            "86/86 [==============================] - 282s 3s/step - loss: 0.2548 - accuracy: 0.8976 - val_loss: 0.4362 - val_accuracy: 0.8400 - lr: 2.0000e-04\n"
          ]
        }
      ]
    },
    {
      "cell_type": "code",
      "source": [
        "acc = [0.] + history.history['accuracy']\n",
        "val_acc = [0.] + history.history['val_accuracy']\n",
        "\n",
        "loss = history.history['loss']\n",
        "val_loss = history.history['val_loss']\n",
        "\n",
        "plt.figure(figsize=(8, 8))\n",
        "plt.subplot(2, 1, 1)\n",
        "plt.plot(acc, label='Training Accuracy')\n",
        "plt.plot(val_acc, label='Validation Accuracy')\n",
        "plt.legend(loc='lower right')\n",
        "plt.ylabel('Accuracy')\n",
        "plt.ylim([min(plt.ylim()),1])\n",
        "plt.title('Training and Validation Accuracy')\n",
        "\n",
        "plt.subplot(2, 1, 2)\n",
        "plt.plot(loss, label='Training Loss')\n",
        "plt.plot(val_loss, label='Validation Loss')\n",
        "plt.legend(loc='upper right')\n",
        "plt.ylabel('Cross Entropy')\n",
        "plt.ylim([0,1.0])\n",
        "plt.title('Training and Validation Loss')\n",
        "plt.xlabel('epoch')\n",
        "plt.show()"
      ],
      "metadata": {
        "colab": {
          "base_uri": "https://localhost:8080/",
          "height": 718
        },
        "id": "7SY4yX4FZDvo",
        "outputId": "c9fda7df-fb2f-47a3-aa4b-0c74b7a32e2c"
      },
      "execution_count": 18,
      "outputs": [
        {
          "output_type": "display_data",
          "data": {
            "text/plain": [
              "<Figure size 800x800 with 2 Axes>"
            ],
            "image/png": "[encoded data removed]"
          },
          "metadata": {}
        }
      ]
    },
    {
      "cell_type": "code",
      "source": [
        "class_names"
      ],
      "metadata": {
        "colab": {
          "base_uri": "https://localhost:8080/"
        },
        "id": "5ABwbvihZDvo",
        "outputId": "e25520d7-9c90-4bf4-eae2-933a48ccf329"
      },
      "execution_count": 19,
      "outputs": [
        {
          "output_type": "execute_result",
          "data": {
            "text/plain": [
              "['Healthy', 'Powdery', 'Rust', 'Slug', 'Spot']"
            ]
          },
          "metadata": {},
          "execution_count": 19
        }
      ]
    },
    {
      "cell_type": "code",
      "source": [
        "# Fine-tuning\n",
        "\n",
        "base_model = model2.layers[2]\n",
        "base_model.trainable = True\n",
        "# Let's take a look to see how many layers are in the base model\n",
        "print(\"Number of layers in the base model: \", len(base_model.layers))\n",
        "\n",
        "# Fine-tune from this layer onwards\n",
        "fine_tune_at = 35\n",
        "\n",
        "# Freeze all the layers before the `fine_tune_at` layer\n",
        "for layer in base_model.layers[:fine_tune_at]:\n",
        "    layer.trainable = False\n",
        "\n",
        "model2.compile(loss=tf.keras.losses.SparseCategoricalCrossentropy(from_logits=False),\n",
        "              optimizer = tf.keras.optimizers.Adam(learning_rate=0.1 * base_learning_rate),\n",
        "              metrics=['accuracy'])"
      ],
      "metadata": {
        "colab": {
          "base_uri": "https://localhost:8080/"
        },
        "id": "SQU1u-YVZDvp",
        "outputId": "aacbe1b5-1caa-438a-c166-9a2c2682f7ee"
      },
      "execution_count": 20,
      "outputs": [
        {
          "output_type": "stream",
          "name": "stdout",
          "text": [
            "Number of layers in the base model:  263\n"
          ]
        }
      ]
    },
    {
      "cell_type": "code",
      "source": [
        "early_stopping = tf.keras.callbacks.EarlyStopping(monitor=\"val_loss\",\n",
        "                                                  patience=3)\n",
        "\n",
        "reduce_lr = tf.keras.callbacks.ReduceLROnPlateau(monitor=\"val_loss\",\n",
        "                                                 factor=0.2,\n",
        "                                                 patience=2,\n",
        "                                                 verbose=1,\n",
        "                                                 min_lr=1e-7)\n",
        "\n",
        "check_point = tf.keras.callbacks.ModelCheckpoint(\n",
        "                        filepath=\"model_with_fine_tuning.keras\",\n",
        "                        save_best_only=True,\n",
        "                        monitor=\"val_loss\")"
      ],
      "metadata": {
        "id": "TJOH_NJQZDvp"
      },
      "execution_count": 21,
      "outputs": []
    },
    {
      "cell_type": "code",
      "source": [
        "fine_tune_epochs = 20 # best from graph is 13\n",
        "total_epochs =  initial_epochs + fine_tune_epochs\n",
        "\n",
        "history_fine = model2.fit(train_dataset,\n",
        "                         epochs=total_epochs,\n",
        "                         initial_epoch=history.epoch[-1],\n",
        "                         validation_data=validation_dataset,\n",
        "                        callbacks=[early_stopping, reduce_lr, check_point])"
      ],
      "metadata": {
        "colab": {
          "base_uri": "https://localhost:8080/"
        },
        "id": "9F4kvrxQZDvq",
        "outputId": "f3e44f0b-7031-4913-8975-186b95f1216c"
      },
      "execution_count": 22,
      "outputs": [
        {
          "output_type": "stream",
          "name": "stdout",
          "text": [
            "Epoch 10/30\n",
            "86/86 [==============================] - 303s 3s/step - loss: 0.2511 - accuracy: 0.9055 - val_loss: 0.3383 - val_accuracy: 0.8820 - lr: 1.0000e-04\n",
            "Epoch 11/30\n",
            "86/86 [==============================] - 275s 3s/step - loss: 0.1909 - accuracy: 0.9271 - val_loss: 0.4394 - val_accuracy: 0.8640 - lr: 1.0000e-04\n",
            "Epoch 12/30\n",
            "86/86 [==============================] - 264s 3s/step - loss: 0.1674 - accuracy: 0.9349 - val_loss: 0.2712 - val_accuracy: 0.9020 - lr: 1.0000e-04\n",
            "Epoch 13/30\n",
            "86/86 [==============================] - 261s 3s/step - loss: 0.1506 - accuracy: 0.9429 - val_loss: 0.2973 - val_accuracy: 0.8940 - lr: 1.0000e-04\n",
            "Epoch 14/30\n",
            "86/86 [==============================] - ETA: 0s - loss: 0.1323 - accuracy: 0.9518\n",
            "Epoch 14: ReduceLROnPlateau reducing learning rate to 1.9999999494757503e-05.\n",
            "86/86 [==============================] - 271s 3s/step - loss: 0.1323 - accuracy: 0.9518 - val_loss: 0.3826 - val_accuracy: 0.8760 - lr: 1.0000e-04\n",
            "Epoch 15/30\n",
            "86/86 [==============================] - 266s 3s/step - loss: 0.1090 - accuracy: 0.9611 - val_loss: 0.2988 - val_accuracy: 0.9040 - lr: 2.0000e-05\n"
          ]
        }
      ]
    },
    {
      "cell_type": "code",
      "source": [
        "acc += history_fine.history['accuracy']\n",
        "val_acc += history_fine.history['val_accuracy']\n",
        "\n",
        "loss += history_fine.history['loss']\n",
        "val_loss += history_fine.history['val_loss']\n",
        "\n",
        "plt.figure(figsize=(8, 8))\n",
        "plt.subplot(2, 1, 1)\n",
        "plt.plot(acc, label='Training Accuracy')\n",
        "plt.plot(val_acc, label='Validation Accuracy')\n",
        "plt.ylim([0, 1])\n",
        "plt.plot([initial_epochs-1,initial_epochs-1],\n",
        "          plt.ylim(), label='Start Fine Tuning')\n",
        "plt.legend(loc='lower right')\n",
        "plt.title('Training and Validation Accuracy')\n",
        "\n",
        "plt.subplot(2, 1, 2)\n",
        "plt.plot(loss, label='Training Loss')\n",
        "plt.plot(val_loss, label='Validation Loss')\n",
        "plt.ylim([0, 1.0])\n",
        "plt.plot([initial_epochs-1,initial_epochs-1],\n",
        "         plt.ylim(), label='Start Fine Tuning')\n",
        "plt.legend(loc='upper right')\n",
        "plt.title('Training and Validation Loss')\n",
        "plt.xlabel('epoch')\n",
        "plt.show()"
      ],
      "metadata": {
        "colab": {
          "base_uri": "https://localhost:8080/",
          "height": 718
        },
        "id": "jE182np8ZDvq",
        "outputId": "7c764ff1-5d60-4cc4-d4ec-686d186653d5"
      },
      "execution_count": 23,
      "outputs": [
        {
          "output_type": "display_data",
          "data": {
            "text/plain": [
              "<Figure size 800x800 with 2 Axes>"
            ],
            "image/png": "[encoded data removed]"
          },
          "metadata": {}
        }
      ]
    },
    {
      "cell_type": "code",
      "source": [
        "loss, accuracy = model2.evaluate(validation_dataset)\n",
        "print('Validation accuracy :', accuracy)\n",
        "print(\"Validation Loss :\", loss)"
      ],
      "metadata": {
        "colab": {
          "base_uri": "https://localhost:8080/"
        },
        "id": "_jA0V0lBZDvs",
        "outputId": "5ba77315-c06e-46dc-f0dc-3fad442e22d0"
      },
      "execution_count": 24,
      "outputs": [
        {
          "output_type": "stream",
          "name": "stdout",
          "text": [
            "8/8 [==============================] - 16s 82ms/step - loss: 0.2988 - accuracy: 0.9040\n",
            "Validation accuracy : 0.9039999842643738\n",
            "Validation Loss : 0.2988119423389435\n"
          ]
        }
      ]
    },
    {
      "cell_type": "code",
      "source": [
        "loss, accuracy = model2.evaluate(test_dataset)\n",
        "print('Test accuracy :', accuracy)\n",
        "print(\"Test Loss :\", loss)"
      ],
      "metadata": {
        "colab": {
          "base_uri": "https://localhost:8080/"
        },
        "id": "AF4l6XXeZDvs",
        "outputId": "f13f9dbb-7876-4784-cdd5-4ac341c2ce95"
      },
      "execution_count": 25,
      "outputs": [
        {
          "output_type": "stream",
          "name": "stdout",
          "text": [
            "7/7 [==============================] - 16s 274ms/step - loss: 0.3122 - accuracy: 0.9150\n",
            "Test accuracy : 0.9150000214576721\n",
            "Test Loss : 0.31216245889663696\n"
          ]
        }
      ]
    },
    {
      "cell_type": "code",
      "source": [
        "'''# Retrieve a batch of images from the test set\n",
        "image_batch, label_batch = test_dataset.as_numpy_iterator().next()\n",
        "predictions = model2.predict_on_batch(image_batch).flatten()\n",
        "\n",
        "predicted_class_index = np.argmax(predictions[0])\n",
        "predicted_class_name = class_names[predicted_class_index]\n",
        "\n",
        "y_actual_index = []\n",
        "y_pred_index = []\n",
        "\n",
        "plt.figure(figsize=(10, 10))\n",
        "for images, labels in test_dataset.take(1):\n",
        "    for i in range(32):\n",
        "        ax = plt.subplot(8, 4, i + 1)\n",
        "        plt.imshow(images[i].numpy().astype(\"uint8\"))\n",
        "        actual_class_name = class_names[labels[i]]\n",
        "        y_actual_index.append(labels[i])\n",
        "        current_image = np.expand_dims(images[i], axis=0)\n",
        "        current_prediction = model2.predict(current_image)\n",
        "        current_predicted_class_index = np.argmax(current_prediction[0])\n",
        "        y_pred_index.append(current_predicted_class_index)\n",
        "        current_predicted_class_name = class_names[current_predicted_class_index]\n",
        "\n",
        "        # Use plt.text for subtitles (adjust positions as needed)\n",
        "        plt.text(0.05, 0.85, f\"Actual: {actual_class_name}\", ha='left', va='top', fontsize=8)\n",
        "        plt.text(0.05, 0.95, f\"Predicted: {current_predicted_class_name}\", ha='left', va='bottom', fontsize=8)\n",
        "\n",
        "        plt.axis(\"off\")\n",
        "plt.tight_layout()  # Adjust spacing between subplots\n",
        "plt.show()'''"
      ],
      "metadata": {
        "colab": {
          "base_uri": "https://localhost:8080/",
          "height": 127
        },
        "id": "9ocei_HGZDvt",
        "outputId": "09cdf594-5928-4b13-861e-2f1bcac3cbac"
      },
      "execution_count": 26,
      "outputs": [
        {
          "output_type": "execute_result",
          "data": {
            "text/plain": [
              "'# Retrieve a batch of images from the test set\\nimage_batch, label_batch = test_dataset.as_numpy_iterator().next()\\npredictions = model2.predict_on_batch(image_batch).flatten()\\n\\npredicted_class_index = np.argmax(predictions[0])\\npredicted_class_name = class_names[predicted_class_index]\\n\\ny_actual_index = []\\ny_pred_index = []\\n\\nplt.figure(figsize=(10, 10))\\nfor images, labels in test_dataset.take(1):\\n    for i in range(32):\\n        ax = plt.subplot(8, 4, i + 1)\\n        plt.imshow(images[i].numpy().astype(\"uint8\"))\\n        actual_class_name = class_names[labels[i]]\\n        y_actual_index.append(labels[i])\\n        current_image = np.expand_dims(images[i], axis=0)\\n        current_prediction = model2.predict(current_image)\\n        current_predicted_class_index = np.argmax(current_prediction[0])\\n        y_pred_index.append(current_predicted_class_index)\\n        current_predicted_class_name = class_names[current_predicted_class_index]\\n\\n        # Use plt.text for subtitles (adjust positions as needed)\\n        plt.text(0.05, 0.85, f\"Actual: {actual_class_name}\", ha=\\'left\\', va=\\'top\\', fontsize=8)\\n        plt.text(0.05, 0.95, f\"Predicted: {current_predicted_class_name}\", ha=\\'left\\', va=\\'bottom\\', fontsize=8)\\n\\n        plt.axis(\"off\")\\nplt.tight_layout()  # Adjust spacing between subplots\\nplt.show()'"
            ],
            "application/vnd.google.colaboratory.intrinsic+json": {
              "type": "string"
            }
          },
          "metadata": {},
          "execution_count": 26
        }
      ]
    },
    {
      "cell_type": "code",
      "source": [
        "test_dataset1 = test_dataset = image_dataset_from_directory(\"/kaggle/input/plant-disease/Plant Disease-5-classes/Plant Disease-5/Test/Test\",\n",
        "                                             batch_size=400,\n",
        "                                             image_size=IMG_SIZE)"
      ],
      "metadata": {
        "colab": {
          "base_uri": "https://localhost:8080/"
        },
        "id": "QVefhypYZDvt",
        "outputId": "60455fd1-f2e2-4f11-fd58-e6efd461c43f"
      },
      "execution_count": 30,
      "outputs": [
        {
          "output_type": "stream",
          "name": "stdout",
          "text": [
            "Found 400 files belonging to 5 classes.\n"
          ]
        }
      ]
    },
    {
      "cell_type": "code",
      "source": [
        "# Retrieve a batch of images from the test set\n",
        "'''image_batch1, label_batch1 = test_dataset1.as_numpy_iterator().next()\n",
        "predictions1 = model2.predict_on_batch(image_batch1).flatten()\n",
        "\n",
        "predicted_class_index1 = np.argmax(predictions1[0])\n",
        "predicted_class_name1 = class_names[predicted_class_index1]\n",
        "\n",
        "predicted_labels = []\n",
        "\n",
        "plt.figure(figsize=(30, 20))\n",
        "for images1, labels1 in test_dataset1.take(1):\n",
        "    for i in range(342):\n",
        "        ax = plt.subplot(20, 20, i + 1)\n",
        "        plt.imshow(images1[i].numpy().astype(\"uint8\"))\n",
        "        actual_class_name1 = class_names[labels1[i]]\n",
        "        current_image1 = np.expand_dims(images1[i], axis=0)\n",
        "        current_prediction1 = model2.predict(current_image1)\n",
        "        current_predicted_class_index1 = np.argmax(current_prediction1[0])\n",
        "        predicted_labels.append(current_predicted_class_index1)\n",
        "        current_predicted_class_name1 = class_names[current_predicted_class_index1]\n",
        "\n",
        "        # Use plt.text for subtitles (adjust positions as needed)\n",
        "        plt.text(0.05, 0.85, f\"Actual: {actual_class_name1}\", ha='left', va='top', fontsize=8)\n",
        "        plt.text(0.05, 0.95, f\"Predicted: {current_predicted_class_name1}\", ha='left', va='bottom', fontsize=8)\n",
        "\n",
        "        plt.axis(\"off\")\n",
        "plt.tight_layout()  # Adjust spacing between subplots\n",
        "plt.show()'''"
      ],
      "metadata": {
        "id": "pXBD4rK8ZDvu"
      },
      "execution_count": null,
      "outputs": []
    },
    {
      "cell_type": "code",
      "source": [
        "from sklearn.metrics import confusion_matrix, ConfusionMatrixDisplay\n",
        "\n",
        "# Get predictions for the entire test dataset\n",
        "predicted_labels = []\n",
        "true_labels = []\n",
        "\n",
        "for images, labels in test_dataset1:\n",
        "    predictions = model2.predict(images)\n",
        "    predicted_labels.extend(np.argmax(predictions, axis=1))\n",
        "    true_labels.extend(labels)\n",
        "\n",
        "# Convert true labels to numpy array\n",
        "true_labels = np.array(true_labels)\n",
        "\n",
        "# Compute confusion matrix\n",
        "cm = confusion_matrix(true_labels, predicted_labels)\n",
        "\n",
        "# Plot confusion matrix\n",
        "disp_cm = ConfusionMatrixDisplay(cm, display_labels=class_names)\n",
        "disp_cm.plot(cmap=\"Greens\")\n",
        "plt.xticks(fontsize=10)\n",
        "plt.yticks(fontsize=10)\n",
        "plt.tight_layout()\n",
        "plt.show()"
      ],
      "metadata": {
        "colab": {
          "base_uri": "https://localhost:8080/",
          "height": 505
        },
        "id": "_ylUEtBUZDvu",
        "outputId": "6a198bb4-1187-416c-f94b-8ee07fcef4bf"
      },
      "execution_count": 31,
      "outputs": [
        {
          "output_type": "stream",
          "name": "stdout",
          "text": [
            "13/13 [==============================] - 3s 37ms/step\n"
          ]
        },
        {
          "output_type": "display_data",
          "data": {
            "text/plain": [
              "<Figure size 640x480 with 2 Axes>"
            ],
            "image/png": "[encoded data removed]"
          },
          "metadata": {}
        }
      ]
    },
    {
      "cell_type": "code",
      "source": [
        "from sklearn.metrics import classification_report\n",
        "\n",
        "# Classification report\n",
        "print(classification_report(true_labels, predicted_labels, target_names=class_names))"
      ],
      "metadata": {
        "colab": {
          "base_uri": "https://localhost:8080/"
        },
        "id": "jY8BtzVGZDvv",
        "outputId": "0b72cead-0335-4567-b16f-ee7132aa17c3"
      },
      "execution_count": 32,
      "outputs": [
        {
          "output_type": "stream",
          "name": "stdout",
          "text": [
            "              precision    recall  f1-score   support\n",
            "\n",
            "     Healthy       0.94      0.93      0.93        80\n",
            "     Powdery       1.00      0.90      0.95        80\n",
            "        Rust       0.99      0.99      0.99        80\n",
            "        Slug       0.99      0.82      0.90        80\n",
            "        Spot       0.74      0.94      0.82        80\n",
            "\n",
            "    accuracy                           0.92       400\n",
            "   macro avg       0.93      0.92      0.92       400\n",
            "weighted avg       0.93      0.92      0.92       400\n",
            "\n"
          ]
        }
      ]
    },
    {
      "cell_type": "code",
      "source": [
        "model2.summary()"
      ],
      "metadata": {
        "colab": {
          "base_uri": "https://localhost:8080/"
        },
        "id": "41SO7QbWZDvv",
        "outputId": "2d311ab7-363e-44aa-a28d-9ee58cab5df4"
      },
      "execution_count": 33,
      "outputs": [
        {
          "output_type": "stream",
          "name": "stdout",
          "text": [
            "Model: \"model\"\n",
            "_________________________________________________________________\n",
            " Layer (type)                Output Shape              Param #   \n",
            "=================================================================\n",
            " input_2 (InputLayer)        [(None, 224, 224, 3)]     0         \n",
            "                                                                 \n",
            " sequential_2 (Sequential)   (None, 224, 224, 3)       0         \n",
            "                                                                 \n",
            " MobilenetV3large (Function  (None, 7, 7, 960)         2996352   \n",
            " al)                                                             \n",
            "                                                                 \n",
            " global_average_pooling2d (  (None, 960)               0         \n",
            " GlobalAveragePooling2D)                                         \n",
            "                                                                 \n",
            " dense (Dense)               (None, 256)               246016    \n",
            "                                                                 \n",
            " dropout (Dropout)           (None, 256)               0         \n",
            "                                                                 \n",
            " dense_1 (Dense)             (None, 128)               32896     \n",
            "                                                                 \n",
            " dropout_1 (Dropout)         (None, 128)               0         \n",
            "                                                                 \n",
            " dense_2 (Dense)             (None, 5)                 645       \n",
            "                                                                 \n",
            "=================================================================\n",
            "Total params: 3275909 (12.50 MB)\n",
            "Trainable params: 3240829 (12.36 MB)\n",
            "Non-trainable params: 35080 (137.03 KB)\n",
            "_________________________________________________________________\n"
          ]
        }
      ]
    },
    {
      "cell_type": "code",
      "source": [
        "model = model2\n",
        "\n",
        "# Convert the TensorFlow model to TensorFlow Lite format\n",
        "converter = tf.lite.TFLiteConverter.from_keras_model(model)\n",
        "tflite_model = converter.convert()\n",
        "\n",
        "# Save the TensorFlow Lite model to a file\n",
        "with open('plant_modelـlatestv.tflite', 'wb') as f:\n",
        "    f.write(tflite_model)"
      ],
      "metadata": {
        "id": "WnktADd7ZDvw"
      },
      "execution_count": 34,
      "outputs": []
    },
    {
      "cell_type": "code",
      "source": [
        "model.save(\"plant_model2.h5\")"
      ],
      "metadata": {
        "colab": {
          "base_uri": "https://localhost:8080/"
        },
        "id": "NuH1svIqZDvx",
        "outputId": "7a8f2373-1fac-473f-91f9-7002341e6212"
      },
      "execution_count": 35,
      "outputs": [
        {
          "output_type": "stream",
          "name": "stderr",
          "text": [
            "/usr/local/lib/python3.10/dist-packages/keras/src/engine/training.py:3103: UserWarning: You are saving your model as an HDF5 file via `model.save()`. This file format is considered legacy. We recommend using instead the native Keras format, e.g. `model.save('my_model.keras')`.\n",
            "  saving_api.save_model(\n"
          ]
        }
      ]
    },
    {
      "cell_type": "code",
      "source": [],
      "metadata": {
        "id": "ZeT0YqCMZDvx"
      },
      "execution_count": null,
      "outputs": []
    },
    {
      "cell_type": "code",
      "source": [],
      "metadata": {
        "id": "lyNqyNRxZDvy"
      },
      "execution_count": null,
      "outputs": []
    }
  ]
}